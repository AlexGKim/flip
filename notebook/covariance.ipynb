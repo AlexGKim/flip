{
 "cells": [
  {
   "cell_type": "markdown",
   "id": "71e15407-b85a-4152-858f-86087f5fae7d",
   "metadata": {},
   "source": [
    "This is a tutorial to use the flip package: https://github.com/corentinravoux/flip \\\n",
    "It is self-contained and can be used in google collab or on your environement \\\n",
    "All the data used are subsampled version of a simulation. \\\n",
    "The data size is small for the tutorial, do not use it for science case. \\"
   ]
  },
  {
   "cell_type": "code",
   "execution_count": null,
   "id": "ae55978f-ac85-4f46-80cf-112204329a68",
   "metadata": {
    "tags": []
   },
   "outputs": [],
   "source": [
    "%%capture\n",
    "!pip install git+https://github.com/corentinravoux/flip"
   ]
  },
  {
   "cell_type": "markdown",
   "id": "ef379b12-2598-413c-9f05-bb7525b4e96a",
   "metadata": {},
   "source": [
    "Loading of the necessary modules"
   ]
  },
  {
   "cell_type": "code",
   "execution_count": null,
   "id": "7e1da453-ef47-4920-b330-a7d9289e2f01",
   "metadata": {
    "scrolled": true
   },
   "outputs": [],
   "source": [
    "import os\n",
    "import numpy as np\n",
    "import matplotlib.pyplot as plt\n",
    "import pandas as pd\n",
    "from flip import fitter, plot_utils, utils, vectors\n",
    "from flip.covariance import covariance, contraction\n",
    "from pkg_resources import resource_filename\n",
    "flip_base = resource_filename(\"flip\", \".\")\n",
    "data_path = os.path.join(flip_base, \"data\")\n",
    "plt.style.use(os.path.join(data_path,\"style.mplstyle\"))"
   ]
  },
  {
   "cell_type": "markdown",
   "id": "7d184b4d-4672-4bf7-8f21-c156e0e195f7",
   "metadata": {},
   "source": [
    "Loading the data, located in the package itself\n",
    "\n"
   ]
  },
  {
   "cell_type": "code",
   "execution_count": null,
   "id": "f81a2bc9-1d9e-4969-ac2d-0b5e56fd189c",
   "metadata": {
    "tags": []
   },
   "outputs": [],
   "source": [
    "ktt, ptt = np.loadtxt(os.path.join(data_path, \"power_spectrum_tt.txt\"))\n",
    "kmt, pmt = np.loadtxt(os.path.join(data_path, \"power_spectrum_mt.txt\"))\n",
    "kmm, pmm = np.loadtxt(os.path.join(data_path, \"power_spectrum_mm.txt\"))\n",
    "\n",
    "# the extra Koda et al. damping term Eq 33 from https://arxiv.org/pdf/2303.01198\n",
    "sigmau_fiducial = 15\n",
    "\n",
    "power_spectrum_dict = {\"vv\": [[ktt, ptt * utils.Du(ktt, sigmau_fiducial) ** 2]]}\n"
   ]
  },
  {
   "cell_type": "markdown",
   "id": "a561c106-87a9-4e42-aaca-9d103e6e750d",
   "metadata": {},
   "source": [
    "First part of the flip package: fast computation of the covariance matrix based on theory and SNIa coordinates"
   ]
  },
  {
   "cell_type": "code",
   "execution_count": null,
   "id": "96947c01-98ed-4793-8fc9-9a19f0830486",
   "metadata": {},
   "outputs": [],
   "source": [
    "filename = \"abacussample_s500_r300_b20_d0.05_i0.1_xyz000_lnone_go.hdf5\"\n",
    "import h5py\n",
    "import numpy\n",
    "from astropy.cosmology import Planck18 as cosmo\n",
    "\n",
    "def read_abacus(filename):\n",
    "    with h5py.File(filename, \"r\") as f:\n",
    "        data=f['abacussample']\n",
    "        zlist = list(data['z']) # observed redshift\n",
    "        ra = list(data['ra'])\n",
    "        dec = list(data['dec'])\n",
    "        rcom_zobs = cosmo.comoving_distance(numpy.array(zlist)).value\n",
    "        # cosmoz = list(data['cosmoz'])\n",
    "        \n",
    "    return numpy.array([ra,dec,rcom_zobs])"
   ]
  },
  {
   "cell_type": "code",
   "execution_count": null,
   "id": "8dfdb97c-8720-46b8-aa48-43fb1b6a4f83",
   "metadata": {},
   "outputs": [],
   "source": [
    "coordinates_velocity = read_abacus(filename)"
   ]
  },
  {
   "cell_type": "code",
   "execution_count": null,
   "id": "a30c697f-6597-450d-ac8b-6941e9ab8219",
   "metadata": {
    "tags": []
   },
   "outputs": [],
   "source": [
    "size_batch=10_000\n",
    "number_worker=16\n",
    "\n",
    "\n",
    "covariance_fit = covariance.CovMatrix.init_from_flip(\n",
    "    \"carreres23\",\n",
    "    \"velocity\",\n",
    "    power_spectrum_dict,\n",
    "    coordinates_velocity=coordinates_velocity,\n",
    "    size_batch=size_batch,\n",
    "    number_worker=number_worker,\n",
    ")\n"
   ]
  },
  {
   "cell_type": "code",
   "execution_count": null,
   "id": "dd338dc8-69c9-40ea-ae8b-df4eb4eda84a",
   "metadata": {},
   "outputs": [],
   "source": [
    "covariance_fit.write(\"temp\",\"pickle\")"
   ]
  }
 ],
 "metadata": {
  "kernelspec": {
   "display_name": "Python 3 (ipykernel)",
   "language": "python",
   "name": "python3"
  },
  "language_info": {
   "codemirror_mode": {
    "name": "ipython",
    "version": 3
   },
   "file_extension": ".py",
   "mimetype": "text/x-python",
   "name": "python",
   "nbconvert_exporter": "python",
   "pygments_lexer": "ipython3",
   "version": "3.12.2"
  }
 },
 "nbformat": 4,
 "nbformat_minor": 5
}
